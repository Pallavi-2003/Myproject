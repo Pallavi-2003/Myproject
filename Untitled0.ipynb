{
  "nbformat": 4,
  "nbformat_minor": 0,
  "metadata": {
    "colab": {
      "provenance": [],
      "authorship_tag": "ABX9TyMv1BpA9QcRGJ7XTOO291wF",
      "include_colab_link": true
    },
    "kernelspec": {
      "name": "python3",
      "display_name": "Python 3"
    },
    "language_info": {
      "name": "python"
    }
  },
  "cells": [
    {
      "cell_type": "markdown",
      "metadata": {
        "id": "view-in-github",
        "colab_type": "text"
      },
      "source": [
        "<a href=\"https://colab.research.google.com/github/Pallavi-2003/Myproject/blob/main/Untitled0.ipynb\" target=\"_parent\"><img src=\"https://colab.research.google.com/assets/colab-badge.svg\" alt=\"Open In Colab\"/></a>"
      ]
    },
    {
      "cell_type": "code",
      "execution_count": null,
      "metadata": {
        "id": "ATchTLxKByvR"
      },
      "outputs": [],
      "source": []
    },
    {
      "cell_type": "code",
      "source": [
        "#write a program to check wheather the element is present in the list\n",
        "list =[1,2,3,4,5,6,7,8]\n",
        "\n",
        "[print(\"present\") for x in list if x==4]\n",
        "\n",
        "print(\"Ture\" if 4 in  list else \"false\")"
      ],
      "metadata": {
        "colab": {
          "base_uri": "https://localhost:8080/"
        },
        "id": "a_M0zFAFB84B",
        "outputId": "47be9786-6bc8-459c-fa33-326cdfac0c04"
      },
      "execution_count": 3,
      "outputs": [
        {
          "output_type": "stream",
          "name": "stdout",
          "text": [
            "present\n",
            "Ture\n"
          ]
        }
      ]
    },
    {
      "cell_type": "code",
      "source": [
        "list =[1,2,3,4,5,6,7,8]\n",
        "[print(f\"{x} is Present\") for x in list if x==4]"
      ],
      "metadata": {
        "colab": {
          "base_uri": "https://localhost:8080/"
        },
        "id": "ViOfHZGZEZAg",
        "outputId": "4bdffca3-2e49-47d6-e3b7-9a917f8357d5"
      },
      "execution_count": 5,
      "outputs": [
        {
          "output_type": "stream",
          "name": "stdout",
          "text": [
            "4 is Present\n"
          ]
        },
        {
          "output_type": "execute_result",
          "data": {
            "text/plain": [
              "[None]"
            ]
          },
          "metadata": {},
          "execution_count": 5
        }
      ]
    },
    {
      "cell_type": "code",
      "source": [
        "x =4\n",
        "tup =(2,3,4,5,6)\n",
        "[print(f\"{x} is Present\") for x in tup else 'not present'}in the {tup}"
      ],
      "metadata": {
        "id": "HfbnXoIUJcjw"
      },
      "execution_count": null,
      "outputs": []
    },
    {
      "cell_type": "code",
      "source": [
        "tup = (1,2,3,4,5,6)\n",
        "\n",
        "print(tup[2: 4:2])"
      ],
      "metadata": {
        "colab": {
          "base_uri": "https://localhost:8080/"
        },
        "id": "0u7V0wnnNPKx",
        "outputId": "1ff1bbda-5a93-4503-85d4-045f1e4ba3da"
      },
      "execution_count": 13,
      "outputs": [
        {
          "output_type": "stream",
          "name": "stdout",
          "text": [
            "(3,)\n"
          ]
        }
      ]
    },
    {
      "cell_type": "code",
      "source": [],
      "metadata": {
        "id": "kle7cMSIUU0J"
      },
      "execution_count": null,
      "outputs": []
    },
    {
      "cell_type": "code",
      "source": [
        "a = {\"arun\":23, \"pallavi\":22, \"amish\":25,}\n",
        "\n",
        "print(dict(sorted(a.items() )))"
      ],
      "metadata": {
        "colab": {
          "base_uri": "https://localhost:8080/"
        },
        "id": "-Qqt-bOeUafz",
        "outputId": "194f49e5-668e-4b64-fd1d-9b5fee041562"
      },
      "execution_count": 21,
      "outputs": [
        {
          "output_type": "stream",
          "name": "stdout",
          "text": [
            "{'amish': 25, 'arun': 23, 'pallavi': 22}\n"
          ]
        }
      ]
    },
    {
      "cell_type": "code",
      "source": [
        "for i in sorted(a):\n",
        "  print(i,a[i])"
      ],
      "metadata": {
        "colab": {
          "base_uri": "https://localhost:8080/"
        },
        "id": "6tdTaER9bdFT",
        "outputId": "fce017e0-54c1-4da9-813d-0703f93f9e88"
      },
      "execution_count": 22,
      "outputs": [
        {
          "output_type": "stream",
          "name": "stdout",
          "text": [
            "amish 25\n",
            "arun 23\n",
            "pallavi 22\n"
          ]
        }
      ]
    },
    {
      "cell_type": "markdown",
      "source": [],
      "metadata": {
        "id": "BBaej9DZUZ6f"
      }
    },
    {
      "cell_type": "markdown",
      "source": [],
      "metadata": {
        "id": "sJBG-f5RJor1"
      }
    }
  ]
}